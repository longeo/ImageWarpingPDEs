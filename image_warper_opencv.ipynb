{
 "cells": [
  {
   "cell_type": "code",
   "execution_count": 2,
   "id": "7f01aeba",
   "metadata": {},
   "outputs": [],
   "source": [
    "# Steps\n",
    "# 1: Input Image\n",
    "# 2: input spline coords"
   ]
  },
  {
   "cell_type": "code",
   "execution_count": 1,
   "id": "c0bd3b7b",
   "metadata": {},
   "outputs": [],
   "source": [
    "import cv2 "
   ]
  },
  {
   "cell_type": "code",
   "execution_count": 11,
   "id": "a7fa77bf",
   "metadata": {},
   "outputs": [],
   "source": [
    "import numpy as np"
   ]
  },
  {
   "cell_type": "code",
   "execution_count": 2,
   "id": "c94d9ba4",
   "metadata": {},
   "outputs": [],
   "source": [
    "img = cv2.imread('englishmansbay.jpg')"
   ]
  },
  {
   "cell_type": "code",
   "execution_count": 3,
   "id": "2457b49d",
   "metadata": {},
   "outputs": [
    {
     "data": {
      "text/plain": [
       "-1"
      ]
     },
     "execution_count": 3,
     "metadata": {},
     "output_type": "execute_result"
    }
   ],
   "source": [
    "cv2.imshow('image',img)\n",
    "cv2.waitKey(0)\n",
    "cv2.destroyAllWindows()\n",
    "cv2.waitKey(1)"
   ]
  },
  {
   "cell_type": "code",
   "execution_count": 35,
   "id": "0fbba735",
   "metadata": {},
   "outputs": [],
   "source": [
    "# Spleen 1\n",
    "s1p1 = [3115, 1910];\n",
    "s1p2 = [2919, 1826];\n",
    "s1p3 = [2815, 1794];\n",
    "s1p4 = [2671, 1750];\n",
    "s1p5 = [2499, 1722];\n",
    "s1p6 = [2351, 1698];\n",
    "\n",
    "sl_x = [s1p1[0], s1p2[0], s1p3[0], s1p4[0], s1p5[0], s1p6[0]];\n",
    "sl_y = [s1p1[1], s1p2[1], s1p3[1], s1p4[1], s1p5[1], s1p6[1]];\n",
    "\n",
    "sl = np.column_stack((s1_x, s1_y));"
   ]
  },
  {
   "cell_type": "code",
   "execution_count": 34,
   "id": "bb6a595b",
   "metadata": {},
   "outputs": [
    {
     "data": {
      "text/plain": [
       "1698"
      ]
     },
     "execution_count": 34,
     "metadata": {},
     "output_type": "execute_result"
    }
   ],
   "source": [
    "s"
   ]
  },
  {
   "cell_type": "code",
   "execution_count": null,
   "id": "af17dc3c",
   "metadata": {},
   "outputs": [],
   "source": [
    "\n",
    "s1_x = [s1p1(1), s1p2(1), s1p3(1),s1p4(1), s1p5(1),s1p6(1)];\n",
    "s1_y = [s1p1(2), s1p2(2), s1p3(2),s1p4(2), s1p5(2),s1p6(2)];\n",
    "s1 = [s1_x,s1_y];"
   ]
  }
 ],
 "metadata": {
  "kernelspec": {
   "display_name": "Python 3 (ipykernel)",
   "language": "python",
   "name": "python3"
  },
  "language_info": {
   "codemirror_mode": {
    "name": "ipython",
    "version": 3
   },
   "file_extension": ".py",
   "mimetype": "text/x-python",
   "name": "python",
   "nbconvert_exporter": "python",
   "pygments_lexer": "ipython3",
   "version": "3.8.10"
  }
 },
 "nbformat": 4,
 "nbformat_minor": 5
}
