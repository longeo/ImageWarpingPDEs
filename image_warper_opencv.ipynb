{
 "cells": [
  {
   "cell_type": "code",
   "execution_count": 2,
   "id": "7f01aeba",
   "metadata": {},
   "outputs": [],
   "source": [
    "# Steps\n",
    "# 1: Input Image\n",
    "# 2: input spline coords\n",
    "# 3. Plot parametric lines on image"
   ]
  },
  {
   "cell_type": "code",
   "execution_count": 1,
   "id": "c0bd3b7b",
   "metadata": {},
   "outputs": [],
   "source": [
    "import cv2 "
   ]
  },
  {
   "cell_type": "code",
   "execution_count": 45,
   "id": "7828a86a",
   "metadata": {},
   "outputs": [],
   "source": [
    "import numpy as np\n",
    "import matplotlib.pyplot as plt"
   ]
  },
  {
   "cell_type": "code",
   "execution_count": 2,
   "id": "c94d9ba4",
   "metadata": {},
   "outputs": [],
   "source": [
    "img = cv2.imread('englishmansbay.jpg')"
   ]
  },
  {
   "cell_type": "code",
   "execution_count": 3,
   "id": "2457b49d",
   "metadata": {},
   "outputs": [
    {
     "data": {
      "text/plain": [
       "-1"
      ]
     },
     "execution_count": 3,
     "metadata": {},
     "output_type": "execute_result"
    }
   ],
   "source": [
    "cv2.imshow('image',img)\n",
    "cv2.waitKey(0)\n",
    "cv2.destroyAllWindows()\n",
    "cv2.waitKey(1)"
   ]
  },
  {
   "cell_type": "code",
   "execution_count": 35,
   "id": "0fbba735",
   "metadata": {},
   "outputs": [],
   "source": [
    "# Spleen 1\n",
    "s1p1 = [3115, 1910];\n",
    "s1p2 = [2919, 1826];\n",
    "s1p3 = [2815, 1794];\n",
    "s1p4 = [2671, 1750];\n",
    "s1p5 = [2499, 1722];\n",
    "s1p6 = [2351, 1698];\n",
    "\n",
    "sl_x = [s1p1[0], s1p2[0], s1p3[0], s1p4[0], s1p5[0], s1p6[0]];\n",
    "sl_y = [s1p1[1], s1p2[1], s1p3[1], s1p4[1], s1p5[1], s1p6[1]];\n",
    "\n",
    "sl = np.column_stack((s1_x, s1_y));"
   ]
  },
  {
   "cell_type": "code",
   "execution_count": 49,
   "id": "2ac13637",
   "metadata": {},
   "outputs": [
    {
     "data": {
      "text/plain": [
       "array([1., 2., 3., 4., 5., 6.])"
      ]
     },
     "execution_count": 49,
     "metadata": {},
     "output_type": "execute_result"
    }
   ],
   "source": [
    "x = np.linspace(1, 6, 6)\n",
    "x"
   ]
  },
  {
   "cell_type": "code",
   "execution_count": 51,
   "id": "8717573b",
   "metadata": {},
   "outputs": [
    {
     "data": {
      "text/plain": [
       "poly1d([-5.71428571e-01, -1.45257143e+02,  3.24540000e+03])"
      ]
     },
     "execution_count": 51,
     "metadata": {},
     "output_type": "execute_result"
    }
   ],
   "source": [
    "# Fit line to x coordinates\n",
    "x = [1, 2, 3, 4, 5, 6]\n",
    "coefficients = np.polyfit(x, sl_x, 2);\n",
    "p = np.poly1d(coefficients);"
   ]
  },
  {
   "cell_type": "code",
   "execution_count": 53,
   "id": "af17dc3c",
   "metadata": {},
   "outputs": [
    {
     "data": {
      "image/png": "[encoded data removed]",
      "text/plain": [
       "<Figure size 432x288 with 1 Axes>"
      ]
     },
     "metadata": {
      "needs_background": "light"
     },
     "output_type": "display_data"
    }
   ],
   "source": [
    "# Plot x coordinates\n",
    "t = np.linspace(1, 6, 200)\n",
    "plt.plot(t, p(t), '-')\n",
    "plt.show()"
   ]
  }
 ],
 "metadata": {
  "kernelspec": {
   "display_name": "Python 3 (ipykernel)",
   "language": "python",
   "name": "python3"
  },
  "language_info": {
   "codemirror_mode": {
    "name": "ipython",
    "version": 3
   },
   "file_extension": ".py",
   "mimetype": "text/x-python",
   "name": "python",
   "nbconvert_exporter": "python",
   "pygments_lexer": "ipython3",
   "version": "3.8.10"
  }
 },
 "nbformat": 4,
 "nbformat_minor": 5
}
